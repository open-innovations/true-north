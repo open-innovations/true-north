{
 "cells": [
  {
   "cell_type": "code",
   "execution_count": 1,
   "metadata": {},
   "outputs": [],
   "source": [
    "import os\n",
    "os.chdir('../../..')\n",
    "from pipelines.util import *"
   ]
  },
  {
   "cell_type": "code",
   "execution_count": 2,
   "metadata": {},
   "outputs": [],
   "source": [
    "CIC_DATADIR = os.path.join(SRC_DIR, 'themes/purpose-social-impact/community-interest/_data/')\n",
    "\n",
    "# Load the SIC code lookup file.\n",
    "sic_lookup = pd.read_csv(os.path.join(CIC_DATADIR, 'SIC_section_lookup.csv'))"
   ]
  },
  {
   "cell_type": "code",
   "execution_count": 3,
   "metadata": {},
   "outputs": [],
   "source": [
    "def sic_code_bar_chart(IN, OUT):\n",
    "    # Read the csv located at `IN`\n",
    "    d = pd.read_csv(f'{IN}')\n",
    "\n",
    "    # Sort values according to count, highest at the top\n",
    "    d.sort_values(by='Count', ascending=False, inplace=True)\n",
    "\n",
    "    # Take the top 6 largest counts only\n",
    "    d = d.head(6)\n",
    "\n",
    "    # Add the code's full name.\n",
    "    d = d.merge(sic_lookup, 'inner', on='SIC')\n",
    "\n",
    "    d.to_csv(os.path.join(CIC_DATADIR, f'{OUT}'), index=False)\n",
    "    return"
   ]
  },
  {
   "cell_type": "markdown",
   "metadata": {},
   "source": [
    "Make a csv of business counts by sic section to power a bar chart"
   ]
  },
  {
   "cell_type": "code",
   "execution_count": 4,
   "metadata": {},
   "outputs": [],
   "source": [
    "sic_code_bar_chart('working/datacity/community-interest/Business_counts_by_SIC_section.csv', 'business_counts_by_sic_section.csv')"
   ]
  },
  {
   "cell_type": "markdown",
   "metadata": {},
   "source": [
    "Make a csv of employee counts by sic section to power a bar chart"
   ]
  },
  {
   "cell_type": "code",
   "execution_count": 5,
   "metadata": {},
   "outputs": [],
   "source": [
    "sic_code_bar_chart('working/datacity/community-interest/Employees_by_SIC_section.csv', 'employees_by_sic_section.csv')"
   ]
  }
 ],
 "metadata": {
  "kernelspec": {
   "display_name": "true-north-n9oHZhgB",
   "language": "python",
   "name": "python3"
  },
  "language_info": {
   "codemirror_mode": {
    "name": "ipython",
    "version": 3
   },
   "file_extension": ".py",
   "mimetype": "text/x-python",
   "name": "python",
   "nbconvert_exporter": "python",
   "pygments_lexer": "ipython3",
   "version": "3.12.3"
  }
 },
 "nbformat": 4,
 "nbformat_minor": 2
}
