{
 "cells": [
  {
   "cell_type": "code",
   "execution_count": 1,
   "metadata": {},
   "outputs": [],
   "source": [
    "import os\n",
    "os.chdir('../../..')"
   ]
  },
  {
   "cell_type": "code",
   "execution_count": 2,
   "metadata": {},
   "outputs": [],
   "source": [
    "from pipelines.util import *\n",
    "import pandas as pd\n",
    "\n",
    "LBG_DATADIR = os.path.join(SRC_DIR, 'themes/purpose-social-impact/limited-by-guarantee/_data')\n",
    "CIC_DATADIR = os.path.join(SRC_DIR, 'themes/purpose-social-impact/community-interest/_data/')\n",
    "sic_lookup = pd.read_csv(os.path.join(CIC_DATADIR, 'SIC_section_lookup.csv'))"
   ]
  },
  {
   "cell_type": "code",
   "execution_count": 3,
   "metadata": {},
   "outputs": [],
   "source": [
    "def sic_code_bar_chart(IN, OUT):\n",
    "    d = pd.read_csv(f'{IN}')\n",
    "    # Sort values according to count, highest at the top\n",
    "    d.sort_values(by='Count', ascending=False, inplace=True)\n",
    "    # take the top 6 largest counts only\n",
    "    d = d.head(6)\n",
    "    d = d.merge(sic_lookup, 'inner', on='SICHLU')\n",
    "    d.to_csv(os.path.join(LBG_DATADIR, f'{OUT}'), index=False)"
   ]
  },
  {
   "cell_type": "code",
   "execution_count": 4,
   "metadata": {},
   "outputs": [],
   "source": [
    "sic_code_bar_chart('working/datacity/limited-by-guarantee/SICHLU_sector_counts.csv', 'business_counts_by_sic_section.csv')"
   ]
  },
  {
   "cell_type": "code",
   "execution_count": 5,
   "metadata": {},
   "outputs": [],
   "source": [
    "sic_code_bar_chart('working/datacity/limited-by-guarantee/Employees_by_SICHLU_sector.csv', 'employees_by_sic_section.csv')"
   ]
  }
 ],
 "metadata": {
  "kernelspec": {
   "display_name": "true-north-n9oHZhgB",
   "language": "python",
   "name": "python3"
  },
  "language_info": {
   "codemirror_mode": {
    "name": "ipython",
    "version": 3
   },
   "file_extension": ".py",
   "mimetype": "text/x-python",
   "name": "python",
   "nbconvert_exporter": "python",
   "pygments_lexer": "ipython3",
   "version": "3.12.3"
  }
 },
 "nbformat": 4,
 "nbformat_minor": 2
}
