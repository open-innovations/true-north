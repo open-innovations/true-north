{
 "cells": [
  {
   "cell_type": "code",
   "execution_count": 1,
   "metadata": {},
   "outputs": [],
   "source": [
    "import os\n",
    "os.chdir('../../..')\n",
    "from pipelines.util import *"
   ]
  },
  {
   "cell_type": "markdown",
   "metadata": {},
   "source": [
    "Directory to put the output data into"
   ]
  },
  {
   "cell_type": "code",
   "execution_count": 2,
   "metadata": {},
   "outputs": [],
   "source": [
    "LBG_DATADIR = os.path.join(SRC_DIR, 'themes/purpose-social-impact/limited-by-guarantee/_data')"
   ]
  },
  {
   "cell_type": "code",
   "execution_count": 3,
   "metadata": {},
   "outputs": [],
   "source": [
    "IN = 'working/datacity/limited-by-guarantee/SICHLU_sector_counts.csv'\n",
    "fname = 'business_counts_by_sic_section.csv'\n",
    "sic_code_bar_chart(IN, LBG_DATADIR, fname)"
   ]
  },
  {
   "cell_type": "code",
   "execution_count": 4,
   "metadata": {},
   "outputs": [],
   "source": [
    "IN = 'working/datacity/limited-by-guarantee/Employees_by_SICHLU_sector.csv'\n",
    "fname = 'employees_by_sic_section.csv'\n",
    "sic_code_bar_chart(IN, LBG_DATADIR, fname)"
   ]
  }
 ],
 "metadata": {
  "kernelspec": {
   "display_name": "true-north-n9oHZhgB",
   "language": "python",
   "name": "python3"
  },
  "language_info": {
   "codemirror_mode": {
    "name": "ipython",
    "version": 3
   },
   "file_extension": ".py",
   "mimetype": "text/x-python",
   "name": "python",
   "nbconvert_exporter": "python",
   "pygments_lexer": "ipython3",
   "version": "3.12.4"
  }
 },
 "nbformat": 4,
 "nbformat_minor": 2
}
