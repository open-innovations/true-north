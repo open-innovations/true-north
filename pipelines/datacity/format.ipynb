{
 "cells": [
  {
   "cell_type": "code",
   "execution_count": 2,
   "metadata": {},
   "outputs": [],
   "source": [
    "import os\n",
    "import pandas as pd\n",
    "os.chdir('../..')"
   ]
  },
  {
   "cell_type": "code",
   "execution_count": 3,
   "metadata": {},
   "outputs": [
    {
     "data": {
      "text/plain": [
       "'/Users/lukestrange/Code/true-north'"
      ]
     },
     "execution_count": 3,
     "metadata": {},
     "output_type": "execute_result"
    }
   ],
   "source": [
    "os.getcwd()"
   ]
  },
  {
   "cell_type": "markdown",
   "metadata": {},
   "source": [
    "# Net Zero"
   ]
  },
  {
   "cell_type": "code",
   "execution_count": 4,
   "metadata": {},
   "outputs": [],
   "source": [
    "TDC_DIR = 'working/datacity'\n",
    "NETZERO_DIR = os.path.join(TDC_DIR, 'netzero')\n",
    "OUTDIR = 'src/themes/sustainable-growth/netzero/_data'"
   ]
  },
  {
   "cell_type": "code",
   "execution_count": 5,
   "metadata": {},
   "outputs": [],
   "source": [
    "data = pd.read_csv(os.path.join(NETZERO_DIR, 'All_UK_companies-Company_size_by_employees.csv'))\n",
    "data = data[data['Company size'] != '250+ employees']\n",
    "data.to_csv(os.path.join(OUTDIR, 'company_size_by_employees.csv'))"
   ]
  },
  {
   "cell_type": "code",
   "execution_count": 6,
   "metadata": {},
   "outputs": [],
   "source": [
    "data = pd.read_csv(os.path.join(NETZERO_DIR, 'All_UK_companies-Employees_by_year.csv'))\n",
    "data.rename(columns={\"Measured total (GBP)\": \"measured_total\", \"Projected total (GBP)\": \"projected_total\"}, inplace=True)\n",
    "data.to_csv(os.path.join(OUTDIR, 'employees_by_year.csv'), index=False)"
   ]
  },
  {
   "cell_type": "code",
   "execution_count": 7,
   "metadata": {},
   "outputs": [],
   "source": [
    "data = pd.read_csv(os.path.join(NETZERO_DIR, 'All_UK_companies-Turnover_by_year.csv'))\n",
    "data.to_csv(os.path.join(OUTDIR, 'turnover_by_year.csv'), index=False)"
   ]
  },
  {
   "cell_type": "code",
   "execution_count": 8,
   "metadata": {},
   "outputs": [],
   "source": [
    "from pipelines.util import *"
   ]
  },
  {
   "cell_type": "markdown",
   "metadata": {},
   "source": [
    "### Adding geography codes to datacity data"
   ]
  },
  {
   "cell_type": "code",
   "execution_count": 9,
   "metadata": {},
   "outputs": [],
   "source": [
    "def get_relative_paths(dir, keyword):\n",
    "    f_paths = []\n",
    "    names = []\n",
    "    for root, _, files in os.walk(dir):\n",
    "        for file in files:\n",
    "            if file == '.gitignore':\n",
    "                continue\n",
    "            if f'{keyword}' in file:\n",
    "                f_paths.append(os.path.join(root, file))\n",
    "                names.append(file.split(\"-\")[1])\n",
    "    return f_paths, names"
   ]
  },
  {
   "cell_type": "code",
   "execution_count": 10,
   "metadata": {},
   "outputs": [],
   "source": [
    "def get_geo_codes(INDIR, OUTDIR):\n",
    "    paths, names = get_relative_paths(INDIR, 'local_authority')\n",
    "    print(names, paths)\n",
    "    # outs = [os.path.join('src/themes/sustainable-growth/netzero/_data/', f'{name}.csv') for name in ['business_counts', 'employee_counts', 'turnover']]\n",
    "\n",
    "    codes = pd.read_csv('metadata/LAD23_lookup.csv', usecols=['LAD23NM', 'LAD23CD'])\n",
    "\n",
    "    for path, name in zip(paths, names):\n",
    "        data = pd.read_csv(f'{path}')\n",
    "        data.rename(columns={'Local authority': 'LAD23NM'}, inplace=True)\n",
    "        merged = data.merge(codes, how='inner', on='LAD23NM') \n",
    "        merged.to_csv(os.path.join(OUTDIR,f'{name}'), index=False)\n",
    "    return"
   ]
  },
  {
   "cell_type": "code",
   "execution_count": 11,
   "metadata": {},
   "outputs": [
    {
     "name": "stdout",
     "output_type": "stream",
     "text": [
      "['Business_counts_by_local_authority.csv', 'Turnovers_by_local_authority.csv', 'Employees_by_local_authority.csv'] ['working/datacity/netzero/All_UK_companies-Business_counts_by_local_authority.csv', 'working/datacity/netzero/All_UK_companies-Turnovers_by_local_authority.csv', 'working/datacity/netzero/All_UK_companies-Employees_by_local_authority.csv']\n",
      "[] []\n"
     ]
    }
   ],
   "source": [
    "get_geo_codes('working/datacity/netzero', 'src/themes/sustainable-growth/netzero/_data/')\n",
    "# get_geo_codes('working/datacity/owner-managed', 'src/themes/innovation-change/owner-managed/_data/')\n",
    "get_geo_codes('working/datacity/community-interest', 'src/themes/purpose-social-impact/community-interest/_data/')"
   ]
  },
  {
   "cell_type": "markdown",
   "metadata": {},
   "source": [
    "### Get top 10 sectors for owner managed rtic sector data"
   ]
  },
  {
   "cell_type": "code",
   "execution_count": 12,
   "metadata": {},
   "outputs": [],
   "source": [
    "OUTDIR = 'src/themes/innovation-change/owner-managed/_data'\n",
    "paths, names = get_relative_paths('working/datacity/owner-managed', 'RTIC')\n",
    "for path, name in zip(paths, names):\n",
    "    data = pd.read_csv(path)\n",
    "    data.sort_values(by='Count', inplace=True, ascending=False)\n",
    "    data = data.head(10)\n",
    "    data.to_csv(os.path.join(OUTDIR, f'{name}'), index=False)"
   ]
  },
  {
   "cell_type": "code",
   "execution_count": null,
   "metadata": {},
   "outputs": [],
   "source": []
  }
 ],
 "metadata": {
  "kernelspec": {
   "display_name": "true-north-n9oHZhgB",
   "language": "python",
   "name": "python3"
  },
  "language_info": {
   "codemirror_mode": {
    "name": "ipython",
    "version": 3
   },
   "file_extension": ".py",
   "mimetype": "text/x-python",
   "name": "python",
   "nbconvert_exporter": "python",
   "pygments_lexer": "ipython3",
   "version": "3.12.3"
  }
 },
 "nbformat": 4,
 "nbformat_minor": 2
}
