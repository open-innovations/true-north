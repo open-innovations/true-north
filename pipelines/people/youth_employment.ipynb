{
 "cells": [
  {
   "cell_type": "code",
   "execution_count": 1,
   "metadata": {},
   "outputs": [],
   "source": [
    "import os\n",
    "os.chdir('../..')\n",
    "from pipelines.util import *\n",
    "import pandas as pd"
   ]
  },
  {
   "cell_type": "code",
   "execution_count": 2,
   "metadata": {},
   "outputs": [],
   "source": [
    "data = pd.read_csv('working/cs/youth-unemployment-adjusted.csv')\n",
    "data['unix'] = pd.to_datetime(data['date'], format=f'%Y-%m-%d').astype(int).div(10**9).astype(int)\n",
    "data['decimal_date'] = data['unix'].div((86400*365.25)).add(1970).round(2)"
   ]
  },
  {
   "cell_type": "code",
   "execution_count": 3,
   "metadata": {},
   "outputs": [],
   "source": [
    "def linechart(data):\n",
    "    data = data.pivot(index=['date', 'decimal_date'], columns='geography_code', values='total_who_want_to_work')\n",
    "    data = data.mul(100).round(1)\n",
    "    data.to_csv(os.path.join(SRC_DIR, 'themes/people-skills-future/_data/youth_employment_RGN.csv'))\n",
    "linechart(data)"
   ]
  },
  {
   "cell_type": "code",
   "execution_count": 4,
   "metadata": {},
   "outputs": [
    {
     "data": {
      "text/html": [
       "<div>\n",
       "<style scoped>\n",
       "    .dataframe tbody tr th:only-of-type {\n",
       "        vertical-align: middle;\n",
       "    }\n",
       "\n",
       "    .dataframe tbody tr th {\n",
       "        vertical-align: top;\n",
       "    }\n",
       "\n",
       "    .dataframe thead th {\n",
       "        text-align: right;\n",
       "    }\n",
       "</style>\n",
       "<table border=\"1\" class=\"dataframe\">\n",
       "  <thead>\n",
       "    <tr style=\"text-align: right;\">\n",
       "      <th></th>\n",
       "      <th>date</th>\n",
       "      <th>geography_name</th>\n",
       "      <th>wants_a_job</th>\n",
       "      <th>unemployed</th>\n",
       "      <th>population</th>\n",
       "      <th>unemployed_percent</th>\n",
       "      <th>wants_a_job_percent</th>\n",
       "      <th>total_who_want_to_work</th>\n",
       "    </tr>\n",
       "    <tr>\n",
       "      <th>geography_code</th>\n",
       "      <th></th>\n",
       "      <th></th>\n",
       "      <th></th>\n",
       "      <th></th>\n",
       "      <th></th>\n",
       "      <th></th>\n",
       "      <th></th>\n",
       "      <th></th>\n",
       "    </tr>\n",
       "  </thead>\n",
       "  <tbody>\n",
       "    <tr>\n",
       "      <th>E12000001</th>\n",
       "      <td>2023-12-01</td>\n",
       "      <td>North East</td>\n",
       "      <td>24400</td>\n",
       "      <td>22600</td>\n",
       "      <td>285400</td>\n",
       "      <td>7.9</td>\n",
       "      <td>8.5</td>\n",
       "      <td>16.5</td>\n",
       "    </tr>\n",
       "    <tr>\n",
       "      <th>E12000002</th>\n",
       "      <td>2023-12-01</td>\n",
       "      <td>North West</td>\n",
       "      <td>48900</td>\n",
       "      <td>45000</td>\n",
       "      <td>759100</td>\n",
       "      <td>5.9</td>\n",
       "      <td>6.4</td>\n",
       "      <td>12.4</td>\n",
       "    </tr>\n",
       "    <tr>\n",
       "      <th>E12000003</th>\n",
       "      <td>2023-12-01</td>\n",
       "      <td>Yorkshire and The Humber</td>\n",
       "      <td>38500</td>\n",
       "      <td>24300</td>\n",
       "      <td>608800</td>\n",
       "      <td>4.0</td>\n",
       "      <td>6.3</td>\n",
       "      <td>10.3</td>\n",
       "    </tr>\n",
       "  </tbody>\n",
       "</table>\n",
       "</div>"
      ],
      "text/plain": [
       "                      date            geography_name  wants_a_job  unemployed  \\\n",
       "geography_code                                                                  \n",
       "E12000001       2023-12-01                North East        24400       22600   \n",
       "E12000002       2023-12-01                North West        48900       45000   \n",
       "E12000003       2023-12-01  Yorkshire and The Humber        38500       24300   \n",
       "\n",
       "                population  unemployed_percent  wants_a_job_percent  \\\n",
       "geography_code                                                        \n",
       "E12000001           285400                 7.9                  8.5   \n",
       "E12000002           759100                 5.9                  6.4   \n",
       "E12000003           608800                 4.0                  6.3   \n",
       "\n",
       "                total_who_want_to_work  \n",
       "geography_code                          \n",
       "E12000001                         16.5  \n",
       "E12000002                         12.4  \n",
       "E12000003                         10.3  "
      ]
     },
     "execution_count": 4,
     "metadata": {},
     "output_type": "execute_result"
    }
   ],
   "source": [
    "def bar_chart(data):\n",
    "    data = data[data['decimal_date'] == max(data['decimal_date'])].drop(columns=['decimal_date', 'unix'])\n",
    "    data = data.set_index('geography_code', drop=True)\n",
    "    data[['unemployed_percent', 'wants_a_job_percent', 'total_who_want_to_work']] = data[['unemployed_percent','wants_a_job_percent','total_who_want_to_work']].mul(100).round(1)\n",
    "    data.to_csv(os.path.join(SRC_DIR, 'themes/people-skills-future/_data/youth_employment_RGN_bar_chart.csv'))\n",
    "    return data\n",
    "data = bar_chart(data)\n",
    "data"
   ]
  }
 ],
 "metadata": {
  "kernelspec": {
   "display_name": "true-north-n9oHZhgB",
   "language": "python",
   "name": "python3"
  },
  "language_info": {
   "codemirror_mode": {
    "name": "ipython",
    "version": 3
   },
   "file_extension": ".py",
   "mimetype": "text/x-python",
   "name": "python",
   "nbconvert_exporter": "python",
   "pygments_lexer": "ipython3",
   "version": "3.12.3"
  }
 },
 "nbformat": 4,
 "nbformat_minor": 2
}
