{
 "cells": [
  {
   "cell_type": "code",
   "execution_count": 1,
   "metadata": {},
   "outputs": [],
   "source": [
    "import os \n",
    "os.chdir('../..')\n",
    "from pipelines.util import *"
   ]
  },
  {
   "cell_type": "code",
   "execution_count": 2,
   "metadata": {},
   "outputs": [],
   "source": [
    "def fastest_growing_sector():\n",
    "    data = pd.read_csv(os.path.join(WDIR, 'cs/fasting-growing-sector-by-lad23.csv'), usecols=['geography.code', 'industry.name', 'share_2019-01-01', 'share_2022-01-01', 'growth_2019_2022'])\n",
    "    # convert decimal to % and round to 2dp.\n",
    "    data[['share_2019-01-01', 'share_2022-01-01']] = data[['share_2019-01-01', 'share_2022-01-01']].mul(100).round(2)\n",
    "    data.to_csv(os.path.join(SRC_DIR, 'themes/innovation-change/fastest-growing-sectors/_data/fastest_growing_sector_by_LAD23.csv'))\n",
    "    return\n",
    "fastest_growing_sector()"
   ]
  }
 ],
 "metadata": {
  "kernelspec": {
   "display_name": "true-north-n9oHZhgB",
   "language": "python",
   "name": "python3"
  },
  "language_info": {
   "codemirror_mode": {
    "name": "ipython",
    "version": 3
   },
   "file_extension": ".py",
   "mimetype": "text/x-python",
   "name": "python",
   "nbconvert_exporter": "python",
   "pygments_lexer": "ipython3",
   "version": "3.12.7"
  }
 },
 "nbformat": 4,
 "nbformat_minor": 2
}
