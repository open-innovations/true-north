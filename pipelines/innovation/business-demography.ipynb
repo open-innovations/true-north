{
 "cells": [
  {
   "cell_type": "code",
   "execution_count": 1,
   "metadata": {},
   "outputs": [],
   "source": [
    "import os\n",
    "os.chdir('../..')\n",
    "from pipelines.util import *\n",
    "import pandas as pd"
   ]
  },
  {
   "cell_type": "code",
   "execution_count": 2,
   "metadata": {},
   "outputs": [],
   "source": [
    "data = pd.read_csv('working/cs/business-demography.csv')\n",
    "data = data[data['dates.date']==max(data['dates.date'])]\n",
    "\n",
    "newnames = ['Births (%)', 'Deaths (%)']\n",
    "data.rename(columns={'births_percent':newnames[0], 'deaths_percent':newnames[1]}, inplace=True)\n",
    "for name in newnames:\n",
    "    data[name] = data[name].mul(100).round(1)\n",
    "data.drop(columns=['geography.name', 'dates.date',], inplace=True)\n",
    "data.to_csv('src/themes/innovation-change/business-demography/_data/demography.csv', index=False)"
   ]
  }
 ],
 "metadata": {
  "kernelspec": {
   "display_name": "true-north-n9oHZhgB",
   "language": "python",
   "name": "python3"
  },
  "language_info": {
   "codemirror_mode": {
    "name": "ipython",
    "version": 3
   },
   "file_extension": ".py",
   "mimetype": "text/x-python",
   "name": "python",
   "nbconvert_exporter": "python",
   "pygments_lexer": "ipython3",
   "version": "3.12.3"
  }
 },
 "nbformat": 4,
 "nbformat_minor": 2
}
