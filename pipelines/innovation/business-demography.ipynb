{
 "cells": [
  {
   "cell_type": "code",
   "execution_count": 1,
   "metadata": {},
   "outputs": [],
   "source": [
    "import os\n",
    "os.chdir('../..')\n",
    "from pipelines.util import *"
   ]
  },
  {
   "cell_type": "code",
   "execution_count": 2,
   "metadata": {},
   "outputs": [
    {
     "name": "stdout",
     "output_type": "stream",
     "text": [
      "Getting data for dates.date == 2022-01-01\n"
     ]
    }
   ],
   "source": [
    "# load the data and get the most recent date only.\n",
    "data = pd.read_csv('working/cs/business-demography.csv')\n",
    "# latest data only\n",
    "data = most_recent_date(data, 'dates.date')\n",
    "\n",
    "# rename columns\n",
    "newnames = ['Births (%)', 'Deaths (%)']\n",
    "data.rename(columns={'births_percent':newnames[0], 'deaths_percent':newnames[1]}, inplace=True)\n",
    "\n",
    "# convert decimal to percentage and round to 1 d.p.\n",
    "for name in newnames:\n",
    "    data[name] = data[name].mul(100).round(1)\n",
    "\n",
    "# drop unused columns\n",
    "data.drop(columns=['geography.name', 'dates.date',], inplace=True)\n",
    "\n",
    "# write to csv\n",
    "data.to_csv('src/themes/innovation-change/business-demography/_data/demography.csv', index=False)"
   ]
  }
 ],
 "metadata": {
  "kernelspec": {
   "display_name": "true-north-n9oHZhgB",
   "language": "python",
   "name": "python3"
  },
  "language_info": {
   "codemirror_mode": {
    "name": "ipython",
    "version": 3
   },
   "file_extension": ".py",
   "mimetype": "text/x-python",
   "name": "python",
   "nbconvert_exporter": "python",
   "pygments_lexer": "ipython3",
   "version": "3.12.7"
  }
 },
 "nbformat": 4,
 "nbformat_minor": 2
}
