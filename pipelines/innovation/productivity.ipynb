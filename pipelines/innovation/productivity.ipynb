{
 "cells": [
  {
   "cell_type": "code",
   "execution_count": 1,
   "metadata": {},
   "outputs": [],
   "source": [
    "import os\n",
    "os.chdir('../..')\n",
    "from pipelines.util import *"
   ]
  },
  {
   "cell_type": "code",
   "execution_count": 2,
   "metadata": {},
   "outputs": [],
   "source": [
    "# get the data as a dataframe from EDD using DuckDB\n",
    "URL = 'https://github.com/economic-analytics/edd/raw/main/data/parquet/PROD_LAD.parquet'\n",
    "con = duckdb.connect()\n",
    "data = con.execute(f\"SELECT * FROM '{URL}'\").fetchdf()"
   ]
  },
  {
   "cell_type": "code",
   "execution_count": 3,
   "metadata": {},
   "outputs": [],
   "source": [
    "# data['unix'] = pd.to_datetime(data['dates.date'], format=f'%Y-%m-%d').astype(int).div(10**6).astype(int)\n",
    "# data['decimal_date'] = data['unix'].div((86400*365.25)).add(1970).round(2)\n",
    "data = add_decimal_date_to_dataframe(data, 'dates.date', div=10**6)"
   ]
  },
  {
   "cell_type": "code",
   "execution_count": 4,
   "metadata": {},
   "outputs": [
    {
     "name": "stdout",
     "output_type": "stream",
     "text": [
      "Getting data for decimal_date == 2022.0\n"
     ]
    }
   ],
   "source": [
    "data = most_recent_date(data, 'decimal_date')"
   ]
  },
  {
   "cell_type": "code",
   "execution_count": 5,
   "metadata": {},
   "outputs": [],
   "source": [
    "data = data.pivot(index=['geography.code', 'geography.name'], columns='variable.name', values='value')"
   ]
  },
  {
   "cell_type": "code",
   "execution_count": 6,
   "metadata": {},
   "outputs": [],
   "source": [
    "data.to_csv('src/themes/innovation-change/productivity/_data/most_recent_productivity_local_authority.csv')"
   ]
  },
  {
   "cell_type": "code",
   "execution_count": 7,
   "metadata": {},
   "outputs": [
    {
     "name": "stdout",
     "output_type": "stream",
     "text": [
      "Timestamp added to file src/themes/innovation-change/productivity/_data/updated.yaml\n"
     ]
    }
   ],
   "source": [
    "time_updated('src/themes/innovation-change/productivity/_data/updated.yaml')"
   ]
  },
  {
   "cell_type": "code",
   "execution_count": 8,
   "metadata": {},
   "outputs": [
    {
     "name": "stdout",
     "output_type": "stream",
     "text": [
      "         id                         desc last_update next_update\n",
      "0  PROD_LAD  Regional Productivity (LAD)          NA          NA\n"
     ]
    }
   ],
   "source": [
    "edd_last_updated_next_updated('PROD_LAD')"
   ]
  }
 ],
 "metadata": {
  "kernelspec": {
   "display_name": "true-north-n9oHZhgB",
   "language": "python",
   "name": "python3"
  },
  "language_info": {
   "codemirror_mode": {
    "name": "ipython",
    "version": 3
   },
   "file_extension": ".py",
   "mimetype": "text/x-python",
   "name": "python",
   "nbconvert_exporter": "python",
   "pygments_lexer": "ipython3",
   "version": "3.12.4"
  }
 },
 "nbformat": 4,
 "nbformat_minor": 2
}
